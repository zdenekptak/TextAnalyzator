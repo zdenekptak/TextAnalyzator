{
 "cells": [
  {
   "cell_type": "markdown",
   "metadata": {},
   "source": [
    "### Projekt: Text Analyzátor"
   ]
  },
  {
   "cell_type": "code",
   "execution_count": 4,
   "metadata": {},
   "outputs": [
    {
     "name": "stdout",
     "output_type": "stream",
     "text": [
      "----------------------------------------------------------------------\n",
      "Welcome to the app. Please log in: \n"
     ]
    },
    {
     "name": "stdin",
     "output_type": "stream",
     "text": [
      "USERNAMRE:  bob\n",
      "PASSWORD:  bob123\n"
     ]
    },
    {
     "name": "stdout",
     "output_type": "stream",
     "text": [
      "----------------------------------------------------------------------\n",
      "You are logged on!\n",
      "----------------------------------------------------------------------\n",
      "We have 3 texts to be analyzed.\n"
     ]
    },
    {
     "name": "stdin",
     "output_type": "stream",
     "text": [
      "Enter a number btw. 1 and 3 to select:  1\n"
     ]
    },
    {
     "name": "stdout",
     "output_type": "stream",
     "text": [
      "----------------------------------------------------------------------\n",
      "There are 54 words in the selected text.\n",
      "There are 12 titlecase words\n",
      "There are 38 lowercase words\n",
      "There are 1 uppercase words\n",
      "There are 3 numeric words\n",
      "----------------------------------------------------------------------\n",
      "1 * 1\n",
      "2 ********* 9\n",
      "3 ****** 6\n",
      "4 *********** 11\n",
      "5 ************ 12\n",
      "6 *** 3\n",
      "7 **** 4\n",
      "8 ***** 5\n",
      "9 * 1\n",
      "10 * 1\n",
      "11 * 1\n",
      "----------------------------------------------------------------------\n",
      "If we summed all the numbers in this text we would get: 8510\n",
      "----------------------------------------------------------------------\n"
     ]
    }
   ],
   "source": [
    "LOGINS = {\n",
    "    \"bob\" : \"bob123\", \n",
    "    \"ann\" : \"ann123\", \n",
    "    \"mike\" : \"mike123\", \n",
    "    \"liz\" : \"liz123\"\n",
    "}\n",
    "\n",
    "separators = 70 * '-'\n",
    "\n",
    "TEXTS = ['''\n",
    "Situated about 10 miles west of Kemmerer, \n",
    "Fossil Butte is a ruggedly impressive \n",
    "topographic feature that rises sharply \n",
    "some 1000 feet above Twin Creek Valley \n",
    "to an elevation of more than 7500 feet \n",
    "above sea level. The butte is located just \n",
    "north of US 30N and the Union Pacific Railroad, \n",
    "which traverse the valley. ''',\n",
    "\n",
    "'''At the base of Fossil Butte are the bright \n",
    "red, purple, yellow and gray beds of the Wasatch \n",
    "Formation. Eroded portions of these horizontal \n",
    "beds slope gradually upward from the valley floor \n",
    "and steepen abruptly. Overlying them and extending \n",
    "to the top of the butte are the much steeper \n",
    "buff-to-white beds of the Green River Formation, \n",
    "which are about 300 feet thick.''',\n",
    "\n",
    "'''The monument contains 8198 acres and protects \n",
    "a portion of the largest deposit of freshwater fish \n",
    "fossils in the world. The richest fossil fish deposits \n",
    "are found in multiple limestone layers, which lie some \n",
    "100 feet below the top of the butte. The fossils \n",
    "represent several varieties of perch, as well as \n",
    "other freshwater genera and herring similar to those \n",
    "in modern oceans. Other fish such as paddlefish, \n",
    "garpike and stingray are also present.'''\n",
    "]\n",
    "\n",
    "print(separators)\n",
    "print('Welcome to the app. Please log in: ')\n",
    "userName = input(\"USERNAMRE: \")\n",
    "password = input(\"PASSWORD: \")\n",
    "print(separators)\n",
    "if LOGINS.get(userName) == password:\n",
    "    print('You are logged on!')\n",
    "    print(separators)\n",
    "\n",
    "    print(\"We have 3 texts to be analyzed.\")\n",
    "    existArticleNumbers = [1,2,3]\n",
    "    articleNumber = int(input(\"Enter a number btw. 1 and 3 to select: \"))\n",
    "    while articleNumber not in existArticleNumbers:\n",
    "        articleNumber = int(input(\"Number is wrong. Enter again a number btw. 1 and 3 to select: \"))\n",
    "        \n",
    "    print(separators)\n",
    "\n",
    "    titleCase = 0\n",
    "    lowerCase = 0\n",
    "    upperCase = 0\n",
    "    digits = []\n",
    "    frequencies = {}\n",
    "\n",
    "    splitText = TEXTS[articleNumber-1].split()\n",
    "    \n",
    "    numberWords = len(splitText)\n",
    "    \n",
    "    print(f\"There are {numberWords} words in the selected text.\")\n",
    "\n",
    "    for word in splitText:\n",
    "        word = word.strip(',.')\n",
    "        lengthWord = len(word)\n",
    "        if lengthWord not in frequencies:\n",
    "            frequencies[lengthWord] = 1\n",
    "        else:\n",
    "            frequencies[lengthWord] = frequencies[lengthWord] + 1\n",
    "        \n",
    "        if word.istitle():\n",
    "            titleCase = titleCase + 1\n",
    "        elif word.islower():\n",
    "            lowerCase = lowerCase + 1\n",
    "        elif word.isupper():\n",
    "            upperCase = upperCase + 1\n",
    "        elif word.isdigit():\n",
    "            digits.append(int(word))\n",
    "\n",
    "    print(f\"There are {titleCase} titlecase words\")\n",
    "    print(f\"There are {lowerCase} lowercase words\")\n",
    "    print(f\"There are {upperCase} uppercase words\")\n",
    "    print(f\"There are {len(digits)} numeric words\")\n",
    "    print(separators)\n",
    "    \n",
    "    for wordLength, count in sorted(frequencies.items()):\n",
    "        char = \"*\"\n",
    "        print(f\"{wordLength} {count*char} {count}\")\n",
    "\n",
    "    print(separators)\n",
    "    print(f\"If we summed all the numbers in this text we would get: {sum(digits)}\")\n",
    "    print(separators)\n",
    "else:\n",
    "    print('Password or username incorrect')\n",
    "    print(separators)\n"
   ]
  },
  {
   "cell_type": "code",
   "execution_count": null,
   "metadata": {},
   "outputs": [],
   "source": []
  }
 ],
 "metadata": {
  "kernelspec": {
   "display_name": "Python 3",
   "language": "python",
   "name": "python3"
  },
  "language_info": {
   "codemirror_mode": {
    "name": "ipython",
    "version": 3
   },
   "file_extension": ".py",
   "mimetype": "text/x-python",
   "name": "python",
   "nbconvert_exporter": "python",
   "pygments_lexer": "ipython3",
   "version": "3.8.0"
  }
 },
 "nbformat": 4,
 "nbformat_minor": 4
}
